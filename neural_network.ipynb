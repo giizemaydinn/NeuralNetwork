{
  "nbformat": 4,
  "nbformat_minor": 0,
  "metadata": {
    "colab": {
      "provenance": [],
      "authorship_tag": "ABX9TyNjw0vbgI+OphliHOhd1Dj2"
    },
    "kernelspec": {
      "name": "python3",
      "display_name": "Python 3"
    },
    "language_info": {
      "name": "python"
    }
  },
  "cells": [
    {
      "cell_type": "code",
      "metadata": {
        "id": "0sPMxZ8AODls"
      },
      "source": [
        "import random\n",
        "import numpy as np\n",
        "import scipy\n",
        "from scipy.spatial import distance\n",
        "import matplotlib.pyplot as plt\n",
        "import math\n",
        "from sklearn.model_selection import train_test_split"
      ],
      "execution_count": null,
      "outputs": []
    },
    {
      "cell_type": "code",
      "metadata": {
        "id": "U6L-8vulOXl8"
      },
      "source": [
        "def borders(a_coef, b_coef):\n",
        "    x0_max = float(a_coef/2)\n",
        "    x0_min = 0.0\n",
        "    \n",
        "    y0_max = float(b_coef/2)\n",
        "    y0_min = 0.0\n",
        "    \n",
        "    x1_max = float(a_coef)\n",
        "    x1_min = float(a_coef/2)\n",
        "    \n",
        "    y1_max = float(b_coef)\n",
        "    y1_min = float(b_coef/2)\n",
        "    \n",
        "   \n",
        "    return x0_max, y0_max, x0_min, y0_min, x1_max, y1_max, x1_min, y1_min"
      ],
      "execution_count": null,
      "outputs": []
    },
    {
      "cell_type": "code",
      "metadata": {
        "id": "iUj88V37OXwP"
      },
      "source": [
        "def initialize_dataset(n_examples, classType):\n",
        "    X = np.zeros([n_examples, 2], dtype=np.float16)\n",
        "    y = classType*np.ones([n_examples, 1], dtype=np.float16)\n",
        "    return X, y"
      ],
      "execution_count": null,
      "outputs": []
    },
    {
      "cell_type": "code",
      "metadata": {
        "id": "TglVOSLNOX15"
      },
      "source": [
        "def random_coord(x_max, y_max, x_min, y_min, n_random_coord, n_examples, classType):\n",
        "    \n",
        "    X, y= initialize_dataset(n_examples, classType)\n",
        "    \n",
        "    for i in range(n_random_coord):\n",
        "        X[i][0] = random.uniform(x_min, x_max)\n",
        "        X[i][1] = random.uniform(y_min, y_max)\n",
        "        \n",
        "        #print(i,\"x: \",X[i][0], \"    y: \", X[i][1], \"Sınıf: \", y[i])\n",
        "\n",
        "    return X, y"
      ],
      "execution_count": null,
      "outputs": []
    },
    {
      "cell_type": "code",
      "metadata": {
        "id": "ODg6TaDtOX4f"
      },
      "source": [
        "def euclidean_distance(x1, y1, x2, y2):\n",
        "    euclidean_distance = distance.euclidean([x1, y1] , [x2, y2])\n",
        "    #euclidean_distance = math.dist([x1, y1] , [x2, y2])\n",
        "    return euclidean_distance"
      ],
      "execution_count": null,
      "outputs": []
    },
    {
      "cell_type": "code",
      "metadata": {
        "id": "nZKhgy2oOX7S"
      },
      "source": [
        "def class_(n_examples, X, y, count, min_change):\n",
        "    j = 0\n",
        "               #300\n",
        "    while(j < count):\n",
        "        rand_number = random.randint(0, count)\n",
        "        distances = []\n",
        "        indexes = []\n",
        "\n",
        "        for i in range(count):\n",
        "            if(i != rand_number):\n",
        "                distance = euclidean_distance(X[rand_number][0],X[rand_number][1], X[i][0],X[i][1])\n",
        "                distances.append(distance)\n",
        "                indexes.append(i)\n",
        "                #if(distance == 0):\n",
        "                    #print(\"Kontrol: \", distance, i , rand_number)\n",
        "\n",
        "        for i in range(min_change):\n",
        "            min_distance = min(distances)\n",
        "            index = distances.index(min_distance)\n",
        "            distances.remove(min_distance)\n",
        "            del indexes[index]\n",
        "            \n",
        "            min_distance = min(distances)\n",
        "            index = distances.index(min_distance)\n",
        "            index = indexes[index]\n",
        "        \n",
        "        count+=1\n",
        "        x_coord = X[rand_number][0] + abs(X[rand_number][0]-X[index][0])*random.random()\n",
        "        y_coord = X[rand_number][1] + abs(X[rand_number][1]-X[index][1])*random.random()\n",
        "        \n",
        "        mevcut = 0\n",
        "        for x in range (count-1):\n",
        "            if(x_coord==X[x][0] and y_coord==X[x][1]):\n",
        "                mevcut=1\n",
        "        if(mevcut==0):\n",
        "            X[count][0] = x_coord\n",
        "            X[count][1] = y_coord\n",
        "            y[count] = y[rand_number][0]\n",
        "            #print(\"En yakın nokta :\", X[index][0], X[index][1], \"Mesafe: \", min_distance)\n",
        "            #print(\"Yeni nokta :\", X[count][0], X[count][1])\n",
        "            \n",
        "            if(count+1 <n_examples):\n",
        "                j+=1\n",
        "            else:\n",
        "                break\n",
        "            \n",
        "        else:\n",
        "            count-=1\n",
        "            j-=1\n",
        "    \n",
        "    return X, y"
      ],
      "execution_count": null,
      "outputs": []
    },
    {
      "cell_type": "code",
      "metadata": {
        "id": "2-RevLcXOX9x"
      },
      "source": [
        "class Layer:\n",
        "    def __init__(self, X, pre_activation, output, W, b, dW, db, dpre_activation, activation_func, activation_derivative):\n",
        "        \n",
        "        self.W =  W\n",
        "        self.b = b\n",
        "        \n",
        "        self.X = X\n",
        "        self.pre_activation = pre_activation\n",
        "        self.output = output\n",
        "        \n",
        "        self.dW = dW\n",
        "        self.db = db\n",
        "        self.dpre_activation = dpre_activation\n",
        "        \n",
        "        self.activation_func = activation_func\n",
        "        self.activation_derivative = activation_derivative"
      ],
      "execution_count": null,
      "outputs": []
    },
    {
      "cell_type": "code",
      "metadata": {
        "id": "l4858g0oOYAR"
      },
      "source": [
        "def relu(pre_activation):\n",
        "    \n",
        "    output = np.maximum(0,pre_activation)\n",
        "    \n",
        "    return output"
      ],
      "execution_count": null,
      "outputs": []
    },
    {
      "cell_type": "code",
      "metadata": {
        "id": "Nvd24oC2OYCs"
      },
      "source": [
        "def relu_derivative(doutput, pre_activation):\n",
        "\n",
        "    dpre_activation = np.array(doutput, copy=True) \n",
        "    dpre_activation[pre_activation <= 0] = 0\n",
        "\n",
        "    return dpre_activation\n"
      ],
      "execution_count": null,
      "outputs": []
    },
    {
      "cell_type": "code",
      "metadata": {
        "id": "h0Qcna-DOtYB"
      },
      "source": [
        "def tanh(pre_activation):\n",
        "    output = np.tanh(pre_activation)\n",
        "    return output"
      ],
      "execution_count": null,
      "outputs": []
    },
    {
      "cell_type": "code",
      "metadata": {
        "id": "Egu47N92Ouap"
      },
      "source": [
        "def tanh_derivative(doutput, pre_activation):\n",
        "    doutput = (1 - np.power(pre_activation, 2))\n",
        "    return doutput"
      ],
      "execution_count": null,
      "outputs": []
    },
    {
      "cell_type": "code",
      "metadata": {
        "id": "zZfZZW7LOueJ"
      },
      "source": [
        "def sigmoid(pre_activation):\n",
        "    \n",
        "    output = 1/(1+np.exp(-pre_activation))\n",
        "    \n",
        "    return output"
      ],
      "execution_count": null,
      "outputs": []
    },
    {
      "cell_type": "code",
      "metadata": {
        "id": "C_XuQ8WsOugp"
      },
      "source": [
        "def sigmoid_derivative(doutput, pre_activation):\n",
        "\n",
        "    s = 1/(1+np.exp(-pre_activation))\n",
        "    dpre_activation = doutput * s * (1-s)\n",
        "\n",
        "    return dpre_activation"
      ],
      "execution_count": null,
      "outputs": []
    },
    {
      "cell_type": "code",
      "metadata": {
        "id": "jBocsK7nOujQ"
      },
      "source": [
        "def nn_model(X, y, network, learning_rate, num_iterations):                     \n",
        " \n",
        "    layers = initialize_layers(network, X.shape)\n",
        "\n",
        "    for i in range(num_iterations):\n",
        "\n",
        "        prediction, layers = forward_propagation(X, layers)\n",
        "\n",
        "        cost = compute_cost(prediction, y) #loss ve dloss ekle\n",
        "        \n",
        "        layers = backward_propagation(prediction, y, layers)\n",
        "        \n",
        "        layers = update_parameters(layers, learning_rate)\n",
        "        \n",
        "        if(i % 100 == 0):\n",
        "            print(i,\" Cost: \", cost)\n",
        "    \n",
        "    return layers"
      ],
      "execution_count": null,
      "outputs": []
    },
    {
      "cell_type": "code",
      "metadata": {
        "id": "2qCmV16BOuuf"
      },
      "source": [
        "def initialize_layers(network, Xshape):\n",
        "    \n",
        "    n_layer = len(network[\"hidden_layer\"])+1\n",
        "    n_input = network[\"n_input\"]      #2 \n",
        "\n",
        "    if(n_layer > 1):\n",
        "      activation_func = network[\"hidden_activation_func\"]\n",
        "      activation_derivative = network[\"hidden_activation_derivative\"]\n",
        "      n_neuron = network[\"hidden_layer\"][0]\n",
        "    \n",
        "    layers = []\n",
        "    for l in range(n_layer):\n",
        "        \n",
        "        if(l == n_layer-1):\n",
        "            n_neuron = 1\n",
        "            activation_func= network[\"output_activation_func\"]\n",
        "            activation_derivative = network[\"activation_derivative\"]\n",
        "        W = np.random.randn(n_neuron, n_input) * 0.01\n",
        "        b = np.zeros((n_neuron, 1))\n",
        "\n",
        "        X = np.zeros((Xshape[0], Xshape[1]))\n",
        "        pre_activation = np.zeros((n_neuron, Xshape[1]))\n",
        "        output = np.zeros((n_neuron, Xshape[1]))\n",
        "        \n",
        "        Xshape = output.shape\n",
        "        \n",
        "        dW = W\n",
        "        db = b \n",
        "        doutput = output\n",
        "        \n",
        "        layer = Layer(X, pre_activation, output, W, b, dW, db, doutput, activation_func, activation_derivative) \n",
        "    \n",
        "        layers.append(layer)\n",
        "         \n",
        "        n_input = n_neuron\n",
        "               \n",
        "    return layers"
      ],
      "execution_count": null,
      "outputs": []
    },
    {
      "cell_type": "code",
      "metadata": {
        "id": "cLXy7s6mOuz9"
      },
      "source": [
        "def forward_propagation(X, layers):\n",
        "\n",
        "    output = X\n",
        "    L = len(layers) - 1             \n",
        "\n",
        "    for l in range(L):\n",
        "        X = output \n",
        "        W = layers[l].W\n",
        "        b = layers[l].b\n",
        "        \n",
        "        activation = layers[L].activation_func\n",
        "        \n",
        "        output, pre_activation = forward(X, W, b, activation)\n",
        "    \n",
        "        layers[l].output = output\n",
        "        layers[l].pre_activation = pre_activation\n",
        "        layers[l].X = X\n",
        "        \n",
        "    activation = layers[L].activation_func\n",
        "    prediction, pre_activation = forward(output, layers[L].W, layers[L].b, activation) \n",
        " \n",
        "    prediction[prediction <= 0] = -1\n",
        "    prediction[prediction > 0] = 1\n",
        " \n",
        "    layers[L].output = prediction\n",
        "    layers[L].pre_activation = pre_activation\n",
        "    layers[L].X = X\n",
        "    \n",
        "    return prediction, layers"
      ],
      "execution_count": null,
      "outputs": []
    },
    {
      "cell_type": "code",
      "metadata": {
        "id": "zkYl3zlzO-DQ"
      },
      "source": [
        "def forward(X, W, b, activation):\n",
        "    pre_activation = np.dot(W, X) + b\n",
        "    output = activation(pre_activation)\n",
        "    \n",
        "    return output, pre_activation"
      ],
      "execution_count": null,
      "outputs": []
    },
    {
      "cell_type": "code",
      "metadata": {
        "id": "6k1P_5oXO-Fz"
      },
      "source": [
        "def compute_cost(prediction, y):\n",
        "\n",
        "    m = y.shape[1]\n",
        "\n",
        "    loss = np.square(prediction-y)*(1/2)\n",
        "    cost = np.sum(loss)/m\n",
        "    #cost = -(1/m)*(np.dot(y, np.log(prediction.T)) + np.dot(1-y, np.log(1-prediction.T)))\n",
        "      \n",
        "    return cost"
      ],
      "execution_count": null,
      "outputs": []
    },
    {
      "cell_type": "code",
      "metadata": {
        "id": "uAHFF3xPO-IS"
      },
      "source": [
        "def cost_derivative(prediction, y, m):\n",
        "    dprediction = (2/m) * sum(prediction - y)\n",
        "    return dprediction"
      ],
      "execution_count": null,
      "outputs": []
    },
    {
      "cell_type": "code",
      "metadata": {
        "id": "F8awoY4UO-Ky"
      },
      "source": [
        "def backward_propagation(prediction, y, layers):\n",
        "\n",
        "    L = len(layers) - 1\n",
        "    m = prediction.shape[1]\n",
        "    y = y.reshape(prediction.shape)\n",
        "\n",
        "    dprediction =cost_derivative(prediction, y, m)\n",
        "\n",
        "    activation_derivative = layers[L].activation_derivative \n",
        "    doutput, dW, db = backward(dprediction, layers[L], activation_derivative)\n",
        "    layers[L].doutput = doutput\n",
        "    layers[L].dW = dW\n",
        "    layers[L].db = db\n",
        "    \n",
        "    for l in reversed(range(L)):\n",
        "        \n",
        "        activation_derivative = layers[L].activation_derivative \n",
        "        doutput, dW, db = backward(layers[l+1].doutput, layers[l], activation_derivative)\n",
        "        \n",
        "        layers[l].doutput = doutput\n",
        "        layers[l+1].dW = dW\n",
        "        layers[l+1].db = db\n",
        "\n",
        "    return layers"
      ],
      "execution_count": null,
      "outputs": []
    },
    {
      "cell_type": "code",
      "metadata": {
        "id": "tngjtm9XPDbH"
      },
      "source": [
        "def backward(doutput, layer, activation_derivative):\n",
        "    \n",
        "    dpre_activation = activation_derivative(doutput, layer.pre_activation)\n",
        "    \n",
        "    m = layer.output.shape[1]\n",
        "\n",
        "    dW = np.dot(dpre_activation, layer.output.T)*(1/m)\n",
        "    db = np.sum(dpre_activation, axis=1, keepdims=True)*(1/m)\n",
        "    doutput = np.dot(layer.W.T, dpre_activation)\n",
        "    \n",
        "    return doutput, dW, db"
      ],
      "execution_count": null,
      "outputs": []
    },
    {
      "cell_type": "code",
      "metadata": {
        "id": "zc1Iv8dUPDeT"
      },
      "source": [
        "def update_parameters(layers, learning_rate):\n",
        "\n",
        "    L = len(layers) - 1 \n",
        "    for l in range(L):\n",
        "        #print(layers[l].W)\n",
        "        layers[l].W = layers[l].W - learning_rate*layers[l].dW\n",
        "        layers[l].b = layers[l].b - learning_rate*layers[l].db\n",
        "\n",
        "    return layers"
      ],
      "execution_count": null,
      "outputs": []
    },
    {
      "cell_type": "code",
      "metadata": {
        "id": "0fzh8UtSPDg_"
      },
      "source": [
        "def predict(X, layers):\n",
        "\n",
        "    output = X\n",
        "    L = len(layers) - 1             \n",
        "\n",
        "    for l in range(L):\n",
        "        X = output \n",
        "        W = layers[l].W\n",
        "        b = layers[l].b\n",
        "        \n",
        "        activation = layers[L].activation_func\n",
        "        \n",
        "        output, pre_activation = forward(X, W, b, activation)\n",
        "        \n",
        "    activation = layers[L].activation_func\n",
        "    prediction, pre_activation = forward(output, layers[L].W, layers[L].b, activation) \n",
        "    \n",
        "        \n",
        "    prediction[prediction <= 0] = -1\n",
        "    prediction[prediction > 0] = 1\n",
        "    \n",
        "    return prediction, layers"
      ],
      "execution_count": null,
      "outputs": []
    },
    {
      "cell_type": "code",
      "metadata": {
        "id": "n1nPHp8kPDjj"
      },
      "source": [
        "#Veri seti oluşturma"
      ],
      "execution_count": null,
      "outputs": []
    },
    {
      "cell_type": "code",
      "metadata": {
        "id": "EgbeKi4wPDl6"
      },
      "source": [
        "n_examples0 = 200  # 0. sınıfın veri sayısı\n",
        "n_examples1 = 300  # 1. sınıfın veri sayısı\n",
        "n_examples = 300 # Sınıfların karışması için fazladan ekleme\n",
        "n_examples = n_examples0 + n_examples1 + n_examples\n",
        "\n",
        "n_random_coord = 50 #İlk belirlenecek nokta sayısı\n",
        "min_change = 10      #Sınıfların karışması için\n",
        "\n",
        "a_coef, b_coef= 0.1, 0.1 #doğrunun katsayıları\n"
      ],
      "execution_count": null,
      "outputs": []
    },
    {
      "cell_type": "code",
      "metadata": {
        "id": "xWRBmd2oPPOr"
      },
      "source": [
        "# Sınıfların sınırlarının belirlenmesi\n",
        "x0_max, y0_max, x0_min, y0_min, x1_max, y1_max, x1_min, y1_min = borders(a_coef, b_coef)"
      ],
      "execution_count": null,
      "outputs": []
    },
    {
      "cell_type": "code",
      "metadata": {
        "id": "eawKiFf-PPSh"
      },
      "source": [
        "#Sınıfları random başlat\n",
        "X0, y0 = random_coord(x0_max, y0_max, x0_min, y0_min, n_random_coord, n_examples0, 1)\n",
        "X1, y1 = random_coord(x1_max, y1_max, x1_min, y1_min, n_random_coord, n_examples1, -1)"
      ],
      "execution_count": null,
      "outputs": []
    },
    {
      "cell_type": "code",
      "metadata": {
        "id": "SNe3vRF_PPVf"
      },
      "source": [
        "# Sınıfları uzaklığa göre benzet\n",
        "X0, y0 = class_(n_examples0, X0, y0, n_random_coord, min_change)\n",
        "X1, y1 = class_(n_examples1, X1, y1, n_random_coord, min_change)"
      ],
      "execution_count": null,
      "outputs": []
    },
    {
      "cell_type": "code",
      "metadata": {
        "colab": {
          "base_uri": "https://localhost:8080/",
          "height": 265
        },
        "id": "2Q6xx6pmPPX9",
        "outputId": "aa12e074-f937-4133-dcce-ebbdb3d2fe59"
      },
      "source": [
        "#Sınıfları birleştir\n",
        "X, y= initialize_dataset(n_examples, 0) \n",
        "\n",
        "for i in range(n_examples0):\n",
        "    \n",
        "    X[i][0] = X0[i][0]\n",
        "    X[i][1] = X0[i][1]\n",
        "    y[i] = y0[i]\n",
        "    plt.scatter(X[i][0], X[i][1], c='r')\n",
        "for i in range(n_examples1):\n",
        "    \n",
        "    X[i+n_examples0][0] = X1[i][0]\n",
        "    X[i+n_examples0][1] = X1[i][1]\n",
        "    y[i+n_examples0] = y1[i]\n",
        "    plt.scatter(X[i+n_examples0][0], X[i+n_examples0][1], c='g')"
      ],
      "execution_count": null,
      "outputs": [
        {
          "output_type": "display_data",
          "data": {
            "image/png": "[encoded data removed]",
            "text/plain": [
              "<Figure size 432x288 with 1 Axes>"
            ]
          },
          "metadata": {
            "needs_background": "light"
          }
        }
      ]
    },
    {
      "cell_type": "code",
      "metadata": {
        "colab": {
          "base_uri": "https://localhost:8080/",
          "height": 267
        },
        "id": "hjlhdJKTPPaU",
        "outputId": "d529f26b-0335-4a7c-8d7c-676b360c5120"
      },
      "source": [
        "# Sınıf karışıklığını belirle\n",
        "min_change = 270 #büyüdükçe diğer sınıfla birleşir\n",
        "X, y = class_(n_examples, X, y, (n_examples0+n_examples1), min_change)\n",
        "for i in range(n_examples):\n",
        "    if(y[i] == 1):\n",
        "        plt.scatter(X[i][0], X[i][1], c='r')\n",
        "    elif(y[i] == -1):\n",
        "        plt.scatter(X[i][0], X[i][1], c='g')"
      ],
      "execution_count": null,
      "outputs": [
        {
          "output_type": "display_data",
          "data": {
            "image/png": "[encoded data removed]",
            "text/plain": [
              "<Figure size 432x288 with 1 Axes>"
            ]
          },
          "metadata": {
            "needs_background": "light"
          }
        }
      ]
    },
    {
      "cell_type": "code",
      "metadata": {
        "id": "cK0cdiw9PPcx"
      },
      "source": [
        "# model oluşturma"
      ],
      "execution_count": null,
      "outputs": []
    },
    {
      "cell_type": "code",
      "metadata": {
        "id": "u7udNORvPWRs"
      },
      "source": [
        "hidden_layer = [10]\n",
        "hidden_activation_func = relu\n",
        "hidden_activation_derivative = relu_derivative\n",
        "output_activation_func = tanh\n",
        "activation_derivative = tanh_derivative\n",
        "\n",
        "learning_rate= 1.75\n",
        "num_iterations = 100"
      ],
      "execution_count": null,
      "outputs": []
    },
    {
      "cell_type": "code",
      "metadata": {
        "id": "GY8GYzYPPWUU"
      },
      "source": [
        "X_train, X_test, y_train, y_test = train_test_split(X, y, test_size=0.25, random_state=0)"
      ],
      "execution_count": null,
      "outputs": []
    },
    {
      "cell_type": "code",
      "metadata": {
        "id": "jlhAi7lWPWW9"
      },
      "source": [
        "X_train = X_train.reshape(X_train.shape[1], X_train.shape[0])\n",
        "y_train = y_train.reshape(y_train.shape[1], y_train.shape[0])\n",
        "\n",
        "X_test = X_test.reshape(X_test.shape[1], X_test.shape[0])\n",
        "y_test = y_test.reshape(y_test.shape[1], y_test.shape[0])"
      ],
      "execution_count": null,
      "outputs": []
    },
    {
      "cell_type": "code",
      "metadata": {
        "id": "kBcxyuYlPWZg"
      },
      "source": [
        "network = {\n",
        "    \"n_input\": X_train.shape[0], # Öznitelik sayısı\n",
        "    \"hidden_layer\":hidden_layer,\n",
        "    \"hidden_activation_func\": hidden_activation_func, # Gizli katmanlardaki aktivasyon fonksiyonu\n",
        "    \"hidden_activation_derivative\": hidden_activation_derivative,\n",
        "    \"output_activation_func\": output_activation_func,   # Çıkış katmanındaki aktivasyon fonksiyonu\n",
        "    \"activation_derivative\": activation_derivative\n",
        "}"
      ],
      "execution_count": null,
      "outputs": []
    },
    {
      "cell_type": "code",
      "metadata": {
        "colab": {
          "base_uri": "https://localhost:8080/"
        },
        "id": "VQa7AAJhPWbs",
        "outputId": "c01ebb61-2c6e-4b28-d2f0-e447a7671bb8"
      },
      "source": [
        "layers= nn_model(X_train, y_train, network, learning_rate, num_iterations)"
      ],
      "execution_count": null,
      "outputs": [
        {
          "output_type": "stream",
          "name": "stdout",
          "text": [
            "0  Cost:  1.0475\n"
          ]
        }
      ]
    },
    {
      "cell_type": "code",
      "metadata": {
        "id": "LTbM4Wx2Pb4P"
      },
      "source": [
        "predictions, layers = predict(X_test, layers)"
      ],
      "execution_count": null,
      "outputs": []
    },
    {
      "cell_type": "code",
      "metadata": {
        "id": "ZtfYxGR5Pb6y"
      },
      "source": [
        "true=0\n",
        "for i in range(X_test.shape[1]):\n",
        "    if(predictions[0][i] == y_test[0][i]):\n",
        "        print(predictions[0][i])\n",
        "        true+=1\n",
        "    else:\n",
        "        a=0\n",
        "        #print(predictions[0][i], y_test[0][i])\n",
        "accuracy=true/(i+1)*100\n",
        "print(\"Accuracy: %\", true/(i+1)*100)"
      ],
      "execution_count": null,
      "outputs": []
    }
  ]
}